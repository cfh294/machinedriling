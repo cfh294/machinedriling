{
  "nbformat": 4,
  "nbformat_minor": 0,
  "metadata": {
    "colab": {
      "name": "shitpost_model_generator.ipynb",
      "provenance": [],
      "collapsed_sections": [],
      "toc_visible": true
    },
    "kernelspec": {
      "name": "python3",
      "display_name": "Python 3"
    },
    "accelerator": "GPU"
  },
  "cells": [
    {
      "cell_type": "markdown",
      "metadata": {
        "colab_type": "text",
        "id": "abnRZjemdlnf"
      },
      "source": [
        "# Machine Dril - Model Generator\n",
        "*By Connor Hornibrook and Dave Coltri*\n",
        "\n",
        "This is based on code from `gpt-2-simple`. \n",
        "\n",
        "For more about `gpt-2-simple`, you can visit [this GitHub repository](https://github.com/minimaxir/gpt-2-simple).\n",
        "\n",
        "To get started:\n",
        "\n",
        "1. Copy this notebook to your Google Drive to keep it and save your changes. (File -> Save a Copy in Drive)\n",
        "2. Make sure you're running the notebook in Google Chrome in Google Colab (for GPU acceleration)\n",
        "3. Run the cells below:\n"
      ]
    },
    {
      "cell_type": "markdown",
      "metadata": {
        "colab_type": "text",
        "id": "ZvUqND7hn57o"
      },
      "source": [
        "Ensure that our notebook has GPU Acceleration"
      ]
    },
    {
      "cell_type": "code",
      "execution_count": 5,
      "metadata": {
        "colab": {
          "base_uri": "https://localhost:8080/",
          "height": 289
        },
        "colab_type": "code",
        "id": "RC7MMV6Hnqsf",
        "outputId": "2a9a6354-e89e-4f97-ba08-59d77a73edc1"
      },
      "outputs": [
        {
          "name": "stdout",
          "output_type": "stream",
          "text": [
            "Mon Dec  9 23:24:27 2019       \n",
            "+-----------------------------------------------------------------------------+\n",
            "| NVIDIA-SMI 440.36       Driver Version: 418.67       CUDA Version: 10.1     |\n",
            "|-------------------------------+----------------------+----------------------+\n",
            "| GPU  Name        Persistence-M| Bus-Id        Disp.A | Volatile Uncorr. ECC |\n",
            "| Fan  Temp  Perf  Pwr:Usage/Cap|         Memory-Usage | GPU-Util  Compute M. |\n",
            "|===============================+======================+======================|\n",
            "|   0  Tesla K80           Off  | 00000000:00:04.0 Off |                    0 |\n",
            "| N/A   71C    P0    73W / 149W |   8357MiB / 11441MiB |      0%      Default |\n",
            "+-------------------------------+----------------------+----------------------+\n",
            "                                                                               \n",
            "+-----------------------------------------------------------------------------+\n",
            "| Processes:                                                       GPU Memory |\n",
            "|  GPU       PID   Type   Process name                             Usage      |\n",
            "|=============================================================================|\n",
            "+-----------------------------------------------------------------------------+\n"
          ]
        }
      ],
      "source": [
        "!nvidia-smi"
      ]
    },
    {
      "cell_type": "markdown",
      "metadata": {
        "colab_type": "text",
        "id": "-8lieq9cm2Yr"
      },
      "source": [
        "Import the important stuff\n"
      ]
    },
    {
      "cell_type": "code",
      "execution_count": 2,
      "metadata": {
        "colab": {
          "base_uri": "https://localhost:8080/",
          "height": 204
        },
        "colab_type": "code",
        "id": "xUAqs0FAdYXI",
        "outputId": "f8afb9b3-bf8f-486f-84ae-357b4bdea202"
      },
      "outputs": [
        {
          "name": "stdout",
          "output_type": "stream",
          "text": [
            "\u001b[?25l\r\u001b[K     |▌                               | 10kB 22.8MB/s eta 0:00:01\r\u001b[K     |█                               | 20kB 25.4MB/s eta 0:00:01\r\u001b[K     |█▌                              | 30kB 6.2MB/s eta 0:00:01\r\u001b[K     |██                              | 40kB 7.9MB/s eta 0:00:01\r\u001b[K     |██▌                             | 51kB 9.4MB/s eta 0:00:01\r\u001b[K     |███                             | 61kB 10.9MB/s eta 0:00:01\r\u001b[K     |███▍                            | 71kB 12.1MB/s eta 0:00:01\r\u001b[K     |████                            | 81kB 13.1MB/s eta 0:00:01\r\u001b[K     |████▍                           | 92kB 8.7MB/s eta 0:00:01\r\u001b[K     |█████                           | 102kB 9.4MB/s eta 0:00:01\r\u001b[K     |█████▍                          | 112kB 9.4MB/s eta 0:00:01\r\u001b[K     |█████▉                          | 122kB 9.4MB/s eta 0:00:01\r\u001b[K     |██████▍                         | 133kB 9.4MB/s eta 0:00:01\r\u001b[K     |██████▉                         | 143kB 9.4MB/s eta 0:00:01\r\u001b[K     |███████▍                        | 153kB 9.4MB/s eta 0:00:01\r\u001b[K     |███████▉                        | 163kB 9.4MB/s eta 0:00:01\r\u001b[K     |████████▎                       | 174kB 9.4MB/s eta 0:00:01\r\u001b[K     |████████▉                       | 184kB 9.4MB/s eta 0:00:01\r\u001b[K     |█████████▎                      | 194kB 9.4MB/s eta 0:00:01\r\u001b[K     |█████████▉                      | 204kB 9.4MB/s eta 0:00:01\r\u001b[K     |██████████▎                     | 215kB 9.4MB/s eta 0:00:01\r\u001b[K     |██████████▊                     | 225kB 9.4MB/s eta 0:00:01\r\u001b[K     |███████████▎                    | 235kB 9.4MB/s eta 0:00:01\r\u001b[K     |███████████▊                    | 245kB 9.4MB/s eta 0:00:01\r\u001b[K     |████████████▎                   | 256kB 9.4MB/s eta 0:00:01\r\u001b[K     |████████████▊                   | 266kB 9.4MB/s eta 0:00:01\r\u001b[K     |█████████████▏                  | 276kB 9.4MB/s eta 0:00:01\r\u001b[K     |█████████████▊                  | 286kB 9.4MB/s eta 0:00:01\r\u001b[K     |██████████████▏                 | 296kB 9.4MB/s eta 0:00:01\r\u001b[K     |██████████████▊                 | 307kB 9.4MB/s eta 0:00:01\r\u001b[K     |███████████████▏                | 317kB 9.4MB/s eta 0:00:01\r\u001b[K     |███████████████▋                | 327kB 9.4MB/s eta 0:00:01\r\u001b[K     |████████████████▏               | 337kB 9.4MB/s eta 0:00:01\r\u001b[K     |████████████████▋               | 348kB 9.4MB/s eta 0:00:01\r\u001b[K     |█████████████████▏              | 358kB 9.4MB/s eta 0:00:01\r\u001b[K     |█████████████████▋              | 368kB 9.4MB/s eta 0:00:01\r\u001b[K     |██████████████████▏             | 378kB 9.4MB/s eta 0:00:01\r\u001b[K     |██████████████████▋             | 389kB 9.4MB/s eta 0:00:01\r\u001b[K     |███████████████████             | 399kB 9.4MB/s eta 0:00:01\r\u001b[K     |███████████████████▋            | 409kB 9.4MB/s eta 0:00:01\r\u001b[K     |████████████████████            | 419kB 9.4MB/s eta 0:00:01\r\u001b[K     |████████████████████▋           | 430kB 9.4MB/s eta 0:00:01\r\u001b[K     |█████████████████████           | 440kB 9.4MB/s eta 0:00:01\r\u001b[K     |█████████████████████▌          | 450kB 9.4MB/s eta 0:00:01\r\u001b[K     |██████████████████████          | 460kB 9.4MB/s eta 0:00:01\r\u001b[K     |██████████████████████▌         | 471kB 9.4MB/s eta 0:00:01\r\u001b[K     |███████████████████████         | 481kB 9.4MB/s eta 0:00:01\r\u001b[K     |███████████████████████▌        | 491kB 9.4MB/s eta 0:00:01\r\u001b[K     |████████████████████████        | 501kB 9.4MB/s eta 0:00:01\r\u001b[K     |████████████████████████▌       | 512kB 9.4MB/s eta 0:00:01\r\u001b[K     |█████████████████████████       | 522kB 9.4MB/s eta 0:00:01\r\u001b[K     |█████████████████████████▌      | 532kB 9.4MB/s eta 0:00:01\r\u001b[K     |██████████████████████████      | 542kB 9.4MB/s eta 0:00:01\r\u001b[K     |██████████████████████████▍     | 552kB 9.4MB/s eta 0:00:01\r\u001b[K     |███████████████████████████     | 563kB 9.4MB/s eta 0:00:01\r\u001b[K     |███████████████████████████▍    | 573kB 9.4MB/s eta 0:00:01\r\u001b[K     |████████████████████████████    | 583kB 9.4MB/s eta 0:00:01\r\u001b[K     |████████████████████████████▍   | 593kB 9.4MB/s eta 0:00:01\r\u001b[K     |████████████████████████████▉   | 604kB 9.4MB/s eta 0:00:01\r\u001b[K     |█████████████████████████████▍  | 614kB 9.4MB/s eta 0:00:01\r\u001b[K     |█████████████████████████████▉  | 624kB 9.4MB/s eta 0:00:01\r\u001b[K     |██████████████████████████████▍ | 634kB 9.4MB/s eta 0:00:01\r\u001b[K     |██████████████████████████████▉ | 645kB 9.4MB/s eta 0:00:01\r\u001b[K     |███████████████████████████████▎| 655kB 9.4MB/s eta 0:00:01\r\u001b[K     |███████████████████████████████▉| 665kB 9.4MB/s eta 0:00:01\r\u001b[K     |████████████████████████████████| 675kB 9.4MB/s \n",
            "\u001b[?25h  Building wheel for gpt-2-simple (setup.py) ... \u001b[?25l\u001b[?25hdone\n",
            "  Building wheel for regex (setup.py) ... \u001b[?25l\u001b[?25hdone\n",
            "WARNING:tensorflow:\n",
            "The TensorFlow contrib module will not be included in TensorFlow 2.0.\n",
            "For more information, please see:\n",
            "  * https://github.com/tensorflow/community/blob/master/rfcs/20180907-contrib-sunset.md\n",
            "  * https://github.com/tensorflow/addons\n",
            "  * https://github.com/tensorflow/io (for I/O related ops)\n",
            "If you depend on functionality not listed there, please file an issue.\n",
            "\n"
          ]
        }
      ],
      "source": [
        "%tensorflow_version 1.x\n",
        "!pip install -q gpt-2-simple\n",
        "\n",
        "import gpt_2_simple as gpt2\n",
        "from datetime import datetime\n",
        "import os\n",
        "import requests"
      ]
    },
    {
      "cell_type": "markdown",
      "metadata": {
        "colab_type": "text",
        "id": "_uZ3W6gOm-3s"
      },
      "source": [
        "Download our dril set for fine tuning"
      ]
    },
    {
      "cell_type": "code",
      "execution_count": 0,
      "metadata": {
        "colab": {},
        "colab_type": "code",
        "id": "pniTfL7VmzDw"
      },
      "outputs": [],
      "source": [
        "file_name = \"dril_tweets.txt\"\n",
        "if not os.path.isfile(file_name):\n",
        "\turl = \"https://raw.githubusercontent.com/cfh294/ShitpostBot/master/data/dril.txt\"\n",
        "\tdata = requests.get(url)\n",
        "\t\n",
        "\twith open(file_name, 'w') as f:\n",
        "\t\tf.write(data.text)"
      ]
    },
    {
      "cell_type": "markdown",
      "metadata": {
        "colab_type": "text",
        "id": "MbTpBdHTmqgG"
      },
      "source": [
        "Next we start the model fine tuning\n"
      ]
    },
    {
      "cell_type": "code",
      "execution_count": 4,
      "metadata": {
        "colab": {
          "base_uri": "https://localhost:8080/",
          "height": 1000
        },
        "colab_type": "code",
        "id": "E6JlDgyTmtyB",
        "outputId": "97e45211-1a43-4258-8a26-de8a8daa9d2f"
      },
      "outputs": [
        {
          "name": "stderr",
          "output_type": "stream",
          "text": [
            "Fetching checkpoint: 1.05Mit [00:00, 570Mit/s]                                                      \n",
            "Fetching encoder.json: 1.05Mit [00:00, 94.5Mit/s]                                                   \n",
            "Fetching hparams.json: 1.05Mit [00:00, 250Mit/s]                                                    \n",
            "Fetching model.ckpt.data-00000-of-00001: 498Mit [00:03, 184Mit/s]                                   \n",
            "Fetching model.ckpt.index: 1.05Mit [00:00, 367Mit/s]                                                \n",
            "Fetching model.ckpt.meta: 1.05Mit [00:00, 147Mit/s]                                                 \n",
            "Fetching vocab.bpe: 1.05Mit [00:00, 177Mit/s]                                                       \n"
          ]
        },
        {
          "name": "stdout",
          "output_type": "stream",
          "text": [
            "WARNING:tensorflow:From /usr/local/lib/python3.6/dist-packages/gpt_2_simple/src/sample.py:17: where (from tensorflow.python.ops.array_ops) is deprecated and will be removed in a future version.\n",
            "Instructions for updating:\n",
            "Use tf.where in 2.0, which has the same broadcast rule as np.where\n",
            "Loading checkpoint models/124M/model.ckpt\n",
            "INFO:tensorflow:Restoring parameters from models/124M/model.ckpt\n"
          ]
        },
        {
          "name": "stderr",
          "output_type": "stream",
          "text": [
            "\r  0%|          | 0/1 [00:00<?, ?it/s]"
          ]
        },
        {
          "name": "stdout",
          "output_type": "stream",
          "text": [
            "Loading dataset...\n"
          ]
        },
        {
          "name": "stderr",
          "output_type": "stream",
          "text": [
            "\r100%|██████████| 1/1 [00:02<00:00,  2.30s/it]\n"
          ]
        },
        {
          "name": "stdout",
          "output_type": "stream",
          "text": [
            "dataset has 247111 tokens\n",
            "Training...\n",
            "[10 | 64.93] loss=4.21 avg=4.21\n",
            "[20 | 122.19] loss=4.26 avg=4.24\n",
            "[30 | 179.33] loss=4.30 avg=4.26\n",
            "[40 | 236.58] loss=4.24 avg=4.25\n",
            "[50 | 293.81] loss=3.96 avg=4.19\n",
            "[60 | 351.07] loss=4.00 avg=4.16\n",
            "[70 | 408.34] loss=4.13 avg=4.16\n",
            "[80 | 465.59] loss=4.10 avg=4.15\n",
            "[90 | 522.89] loss=3.78 avg=4.11\n",
            "[100 | 580.21] loss=4.09 avg=4.10\n",
            "[110 | 637.56] loss=3.87 avg=4.08\n",
            "[120 | 694.90] loss=3.84 avg=4.06\n",
            "[130 | 752.25] loss=3.69 avg=4.03\n",
            "[140 | 809.63] loss=3.23 avg=3.97\n",
            "[150 | 867.03] loss=2.96 avg=3.90\n",
            "[160 | 924.41] loss=3.57 avg=3.88\n",
            "[170 | 981.82] loss=3.29 avg=3.84\n",
            "[180 | 1039.20] loss=3.26 avg=3.80\n",
            "[190 | 1096.65] loss=3.41 avg=3.78\n",
            "[200 | 1154.08] loss=2.92 avg=3.73\n",
            "======== SAMPLE 1 ========\n",
            " he, i don't know, the reason its called \"fag night\" is because all my little followers have already said one of my bullshit things\n",
            "\"Dangerous Fruit\" from the movie \"Girls\"- a series of words that people think are very funny, but are actually awful & would make unfunny things like \"Cool\" or \"Sad\"\n",
            "people should not wear the T-Shirts of corporations; it, should be legal to do so.\n",
            "the most notable exception to this is the NFL Players wearing NFL Players Cap, which is basically a Top Gun with some big dick dicks inside of it\n",
            "when people make me look atve like a complete ass, or some shit, it's so good and theyre so smart and all\n",
            "im good, so try not fucking like a fuckin ass bitch now\n",
            "@v0rnziG you fucking piece of shit\n",
            "RT @cnnfood: #ABCNews Food\n",
            "RT @GangnamLads: @ABCFoodGangnamLads\n",
            "RT @VeraNBCS: @GangnamLadsTV\n",
            "#dickdealsmyanimally my girl followers\n",
            "(applause) the guy who put a curse on my dick\n",
            "if im the only guy in the world who can do the \"DICK\" thing, then im the only guy in this fucking industry who does it\n",
            "my last post said Im the only person on the web with a right to voice her opinion; i never said hes right. but id be proud to say my post is worse now\n",
            "im a real man now. its like 100%\n",
            "@dwayne8073882 nobody ever said you had to wear an armband on that one. it was just an armband\n",
            "@Nihilist_Celtic \"Dangerous Fruit\" from the movie \"Girls\"- a series of words that people think are very funny, but are actually awful & would make unfunny things like \"Cool\" or \"Sad\"\n",
            "i was trying to figure out what the hell was going on at first, but i finally figured it out. what makes this shit fucked up, fuck up.\n",
            "if you listen to the radio, youll hear me constantly saying these words:\n",
            "the guy who made the birds sing is trying to sell the cookie he wants, so get yourself a hamburger, michalis\n",
            "i would bet a pound if i was in the army, i would bet a pound on the idea that the bird folks would really like my posts.\n",
            "@nataliejmooney i wont do it again\n",
            "https://tinyurl.com/jwj699s\n",
            "youve never seen a good movie before. but i had to kill to believe it. the birds take flight over the damn screen and it sucks\n",
            "@CBR_R_ you think the birds would want a sandwich? no, theyre all for a sandwich\n",
            "RT @thedayshark: #usgirls // #usboys // #usgirlsboys\n",
            "@DinkMagic @jakebrodes im dead\n",
            "@dwayne739321849 never\n",
            "@DinkMagic @jakebrodes i didnt kill him\n",
            "heres what theyve gone above and beyond:\n",
            "they have gone beyond what i should be proud of:\n",
            "@DinkMagic @jakebrodes i never intended for his death\n",
            "The worst part of being a bastard. The worst part of putting up with me\n",
            "#Truth_In_Lies is what im talking about (itself a sub-trait)\n",
            "(screams \"Hail Osama!\" in King Hussein's name) this country sucks (and Osama sucks)\n",
            "im one of the only guys in the world with a 3rd eye that says he got it\n",
            "https://tinyurl.com/jwj699s\n",
            "@dwayne739321849 the guy who threw spaghetti at a bus was a genius because of his dumb ass\n",
            "the thing that makes me mad the most is when a bunch of people use the word \"Haters\" together and get blocked from twitter because of it\n",
            "@dwayne739321849 @DunceManiac @DunceManiac what the fuck would he have done if he knew the rules\n",
            "RT @dunkmoneyguru: @DunkMoneyGuru @dunkmoneyguru @hambeef @dunn1 @Fart @fart2 @mikecain @jfau5 @kristanfau5 @barrelburner @BertramJKD @GrammyWunter @Dril6 @ZestyBoy @TeenNickGuru @KidChaseLORENIEST @dondaysgamer @DunkMoneyGuru @DunkMoneyGuru @Dril7 @Dontknow @dondaysgamer @BabyGamer @NatalieJMooney @TeenNickGuru @TeenNickGuru @LipmyW\n",
            "\n",
            "[210 | 1233.71] loss=2.79 avg=3.69\n",
            "[220 | 1291.17] loss=2.68 avg=3.63\n",
            "[230 | 1348.59] loss=3.06 avg=3.61\n",
            "[240 | 1406.01] loss=2.98 avg=3.58\n",
            "[250 | 1463.46] loss=3.00 avg=3.55\n",
            "[260 | 1520.91] loss=2.47 avg=3.50\n",
            "[270 | 1578.38] loss=2.57 avg=3.46\n",
            "[280 | 1635.85] loss=3.09 avg=3.45\n",
            "[290 | 1693.36] loss=2.53 avg=3.41\n",
            "[300 | 1750.86] loss=2.06 avg=3.36\n",
            "[310 | 1808.30] loss=2.08 avg=3.31\n",
            "[320 | 1865.73] loss=1.91 avg=3.26\n",
            "[330 | 1923.20] loss=2.35 avg=3.23\n",
            "[340 | 1980.67] loss=2.13 avg=3.19\n",
            "[350 | 2038.12] loss=2.16 avg=3.16\n",
            "[360 | 2095.58] loss=1.90 avg=3.12\n",
            "[370 | 2153.04] loss=1.94 avg=3.08\n",
            "[380 | 2210.52] loss=1.49 avg=3.03\n",
            "[390 | 2267.92] loss=2.17 avg=3.00\n",
            "[400 | 2325.39] loss=1.74 avg=2.96\n",
            "======== SAMPLE 1 ========\n",
            " kap[liking] a girl who is black\n",
            "my dick is a dog food\n",
            "what ever happen to my secret stash of vintage toilet paper-- only 1000 teapots  #tickets #India http://t.co/Ff3mHg6fJP\n",
            "thge has simply become a more valuable marketer., as the cost of capital has gone down. we are now on to #The12DaysOfContent.\n",
            "@nataliejmooney if ur from outta town or something or another im not here to chat with anybodys\n",
            "i just found out a guy named \"TightRidgeYOoCowboy\" has taken a HUGE liking to my post count, and now its time to get my ass scrub\n",
            "ive had the pleasure of interacting with on this epic site, and it feels as though im the only person on this whole \"thank you site\" thing, im just a dumb dumber dumberner\n",
            "ive got that nasty \"pea\" bug out of the oven. if u got a dozen or so decomposing mange's eggs in a pile b/c u say u h fuck you up\n",
            "@DuckDragonDuck digvorn\n",
            "@dwayne759384759 i gotta go\n",
            "@DiveDragonDuck alright\n",
            "@TippingToucheeeNek voted to muck with my followers body tanta for $1 dollars today\n",
            "@dwayne759384759 alright\n",
            "in the latest move, craig about to cut ties with me, ienda just sent me a picture of my dick and ass\n",
            "im just going to type ancillary site-house noises, there were no computer input noises by your ogle laboratory\n",
            "@DiveDragonDuck well i saw that shit on tv once\n",
            "@dwayne759384759 no joke son\n",
            "@CeliaPienkosz http://t.co/hB7c7QSj4\n",
            "@DiveDragonDuck oh, thank you\n",
            "who is this\n",
            "a horny bastard is jacking off to a beautiful woman, and thhe woman is sucked deep throating on his vomit.\n",
            "@Ketherbound Good\n",
            "@DiveDragonDuck thanks, but whua fuck can i say for sure\n",
            "@DiveDragonDuck im sorry but these days people are more interested in downloading apps called \"Wife\".\n",
            "@DiveDragonDuck and whats that? now i get to explore all my nude self's & remove all the superfluous content from my life through mindfulness\n",
            "@dripshooter @BevisSimpson btry\n",
            "@dripshooter @DiveDragonDuck you got me. i don't have time to absorb all of your bullshit\n",
            "@baptizedditnick \"No\"\n",
            "@DiveDragonDuck @DiveDragonDuck no\n",
            "ive used to get too excited about all the new things around the house because i just kept saying to my self all these cute girls im going to marry me,\n",
            "@911VICTIM @DiveDragonDuck im goin to fuck your god damn daughter\n",
            "@911VICTIM @SamuelPeters good boy\n",
            "ah, lets all get this thing analyzed by the chemtrails. the amount of acid in our water has increased more in the last 100,000 years than in any other age\n",
            "#Thrush https://t.co/5lZfOc4tUc\n",
            "please let me cover my entire webpage in jungle camo so i can show some of the REAL deal instead of resorting to vulgar word games\n",
            "@vinceness hell yeah if i get poisoned that much i die\n",
            "@drsleaze the next one right after he knocks his log on the grill for like an hour and a half and calls it shelf life\n",
            "im going to post pics of my wife swiping right at the google logo like a madman\n",
            "@drsleaze im not allowed to do it.\n",
            "sick of having to post shit like \"My wife sent me the Dunhill Farm Fresh Jell-O\" because i dont like it either\n",
            "@cbranch89 im sorry but its disgusting to see these kinds of vile, unfunny, & disrespectful comments directed at me directly\n",
            "@CeliaPienkosz also, can i bring a mattress\n",
            "looking at all the different fake accounts on here that are willing to put up pictures of their pregnant turds for free\n",
            "@michaeljefferson69 @digitalsnot im paying him\n",
            "haha you say fake, but I said it was just a bunch of pictures of mattresses. now im paying him to do the same thing with me\n",
            "@LeahRibiconda @DigitalsNot yet. but damn, who's to be afraid of slandering my brand after this shit materializes\n",
            "@CeliaPienkosz @LeahRibiconda Sorry\n",
            "@swimming_baby @iRespect first the stinkers\n",
            "\n",
            "[410 | 2403.80] loss=1.86 avg=2.93\n",
            "[420 | 2461.25] loss=1.37 avg=2.89\n",
            "[430 | 2518.75] loss=1.23 avg=2.84\n",
            "[440 | 2576.21] loss=1.45 avg=2.80\n",
            "[450 | 2633.65] loss=1.32 avg=2.76\n",
            "[460 | 2691.13] loss=1.07 avg=2.71\n",
            "[470 | 2748.55] loss=1.08 avg=2.67\n",
            "[480 | 2805.98] loss=1.41 avg=2.64\n",
            "[490 | 2863.39] loss=0.95 avg=2.59\n",
            "[500 | 2920.82] loss=1.28 avg=2.56\n",
            "Saving checkpoint/run1/model-500\n",
            "[510 | 2981.56] loss=0.97 avg=2.52\n",
            "[520 | 3038.98] loss=1.08 avg=2.48\n",
            "[530 | 3096.44] loss=0.77 avg=2.44\n",
            "[540 | 3153.85] loss=0.94 avg=2.41\n",
            "[550 | 3211.23] loss=1.14 avg=2.38\n",
            "[560 | 3268.68] loss=0.68 avg=2.34\n",
            "[570 | 3326.10] loss=0.56 avg=2.30\n",
            "[580 | 3383.51] loss=0.58 avg=2.26\n",
            "[590 | 3440.92] loss=0.84 avg=2.23\n",
            "[600 | 3498.31] loss=0.70 avg=2.19\n",
            "======== SAMPLE 1 ========\n",
            " kwj1snLXRlfs\n",
            "@davidsexton94 @BronzeHammer i am an average joe. i want to become an average joe\n",
            "im trying to stay up all night reading sotp on the subject of \"Child Sexuality\"\n",
            "what you need to become as good as you say you are. -PornGeorge\n",
            "i will never apologize for sending my son sniper pole kicks\n",
            "i regret not shaving my arms more\n",
            "my dick looks like an Arduinos ass. the Arduinos ass doesn't suck\n",
            "@eedrk i shaved my arms then too\n",
            "@Ric Flair it was a fake photo. i spray changed it back to normal after looking at my son.\n",
            "the way i see it, PornGeorge, you have probably never heard of the business man, and you seem to think people who use \"shit\" are Little Pigs\n",
            "\"Valor is the honor of distinction\"...but why is it that all men are loser?me (48) consider the Law, and am i entitled to the same?petition to have my son banned on the grounds that his genitals are void\n",
            "the way i see it, valor is the honor of distinction... but why is it that all men are losers -Dril\n",
            "@samir Im a miserable fucking miserable fucking miserable fucking miserable fucking miserable fucking miserable fucking miserable fucking miserable fucking miserable fucking miserable fucking miserable fucking miserable fucking miserable fucking fucking fucking fucking fucking  ~ ~  ~  ~                                                                                    Eberhard\n",
            "@shoe3d what should we take away from this shitty tun @pairpad from the tread on the water level. please dont take any liberties with it. im very pleased with it\n",
            "\"Valor is the honor of distinction... but why is it that all men are loser\" -RongoldValor is the privilege of distinction... but why are you feeling frisky right now, ~Rongold\n",
            "@brian_hanson the trolls are beating me on my computer badge like an animal.\n",
            "@pwertz the trolls are beating me on my GoodEbonMilfs account, looking for cheap shots at casinos.\n",
            "@AndyRichter no\n",
            "@AndyRichter @petitivedough the movies are in theaters soon so please keep your email brief\n",
            "in a world where weaning my sons on the basketball has gotten me nick natt named \"Bacon Nachos\" to avoid (my current term) \"I hate florists\"\n",
            "as the dragonborn, whether roaming the forest with a big boy in his mouth or just adventuring I think a \"brony bacon scissor\" was either some good name or some coin\n",
            "my oprning process ----------   1) Selecting a topic - Press \"C\" to open the post\n",
            "watching the army fly by while telling his cronies all about the how a \"thing is amiss\" golem slogan; shit flying off the screen 2) Cant seem to care\n",
            "convinced that people are still using \"lease at 2 mi\" to describe the new $60 amazon super tower http://t.co/yqnRcZeCN\n",
            "@Cryptoterra http://t.co/pEWakqCBc\n",
            "#TenQuestionsAShell mtg_tells_list_u \"is al-Qaeda; or am I a guy\n",
            "dril knocks my denim robe on the floor \"down the ass tube\" #TheThursdayNiteRat\n",
            "didnt know there were any new labor contracts in Texas until a jerk off reddit caller told me. ive been tugging threads of life since 1999 at u,\n",
            "#QuestionsAShell reddit gold star for 2009 huhay??  this i ncom others?? #theThursdayniteRat\n",
            "#theThursdayniteRat How Many DOklets Does It Take To Kill An Allie Costas Big Jingle Bells\n",
            "@trash_horse the best deals on sweaters.  with deals for hopping on the side.  with deals for hopping on the side.  #theThursdayniteRat\n",
            "#theThursdayniteRat How To Get Some Ice Room Spirit Eau Claire, WV #theThursdayniteRat\n",
            "#theThursdayniteRat How To Go To The Farm Silly On This One #ZuckerbergDay #glitch\n",
            "#theThursdayniteRat How To Farm Silly On THIS ONE #ZuckerbergDay #glitch\n",
            "#theThursdayniteRat How To Farm Silly On THIS ONE #ZuckerbergDay #glitch\n",
            "#theThursdayn\n",
            "\n",
            "[610 | 3576.61] loss=0.54 avg=2.16\n",
            "[620 | 3634.07] loss=0.69 avg=2.13\n",
            "[630 | 3691.51] loss=0.56 avg=2.09\n",
            "[640 | 3748.99] loss=0.75 avg=2.06\n",
            "[650 | 3806.43] loss=0.59 avg=2.03\n",
            "[660 | 3863.87] loss=0.54 avg=2.00\n",
            "[670 | 3921.30] loss=0.55 avg=1.97\n",
            "[680 | 3978.75] loss=0.45 avg=1.94\n",
            "[690 | 4036.18] loss=0.50 avg=1.91\n",
            "[700 | 4093.65] loss=0.40 avg=1.88\n",
            "[710 | 4151.12] loss=0.28 avg=1.85\n",
            "[720 | 4208.53] loss=0.49 avg=1.83\n",
            "[730 | 4265.98] loss=0.70 avg=1.80\n",
            "[740 | 4323.43] loss=0.31 avg=1.78\n",
            "[750 | 4380.87] loss=0.35 avg=1.75\n",
            "[760 | 4438.31] loss=0.28 avg=1.72\n",
            "[770 | 4495.79] loss=0.45 avg=1.70\n",
            "[780 | 4553.22] loss=0.23 avg=1.67\n",
            "[790 | 4610.66] loss=0.25 avg=1.64\n",
            "[800 | 4668.08] loss=0.23 avg=1.62\n",
            "======== SAMPLE 1 ========\n",
            " iron of \"Crisp Ladybug\"\n",
            "why is it that computers are mere crumbs placed before the brain to form this very concept of \"Good\" data?me: yes, data is good,\n",
            "https://tinyurl.com/jwj699s\n",
            "RT @lhomamuel7: Hmy gf cured her of leprosy. He also tweeted, #lhomamuel7!\n",
            "oh my god do all the arrows point to heaven. theres nothin real, nothin beautiful,\n",
            "there is nothin quite like the Purple Ochrace, to piss, to piss off, and none of the other Piss.grouse your Male Sexual Arrogance.\n",
            "data search - for \"Rat \"searching?? god damn it!! *notts)\n",
            "baptizing my father https://t.co/Q4gdyrbgsH\n",
            "\"I envision a family, surrounded by happy people, spending their days playing cards and making cards pieces out of Nine Inch (Number Nine)\". That, my friend.\n",
            "eating a happy meal out in the yard with happy hours\n",
            "when the bbw sends u a list of his or her favorite snacks you just shit on it and its good to go\n",
            "nothing makes me so muchoother, than other things,\n",
            "thinking about some of the shit I once wrote on mme bean's skin bp milk\n",
            "shit me needing a favor. milk and honey were 2 separate things, before or during my life. they are shit respectively\n",
            "between 1 and 18,000 years ago, people on here just fucked up and talked like shit, with \"Fucking\" sticks, when they \"Made\" bread\n",
            "the first dead guy was a \"Bubsy Fuck Her\"\n",
            "https://tinyurl.com/jwj699s\n",
            "RT @DogBountyHunter: @Car1iaraGHOMS NaturalDry\n",
            "RT @Car1iaraGHOMS: https://t.co/2sArbw0ED\n",
            "sick of guys like Dick Clark, joker elan musk, and fucked up ass to all the hollywood media outlets,kick me out of my house for being a \"Cunt\" 2\n",
            "concerned about t he health of my follower count.  please help me job one peole\n",
            "please hire me just so i can brag about how good my new book is and get praise for it from my followers and the media.  this is a new experience for me,\n",
            "paying $39 for a single copy of Gentleman's Rules that all the other men own and that i sell to my followers for under $39U\n",
            "this guy is selling 2 pages of them. one with the humorous title \"These Tastes Like Home\" and the other \"These Tastes Like Here\"\n",
            "@DinkMagic thank you for liking my book\n",
            "having sex with the same chemical imritables who sold me one million things in one day\n",
            "spending my honey bee time snorting the entire 9/11 brew while people shit and shit again\n",
            "@jeganlyxual not before my 19th birthday. #GoodGuys\n",
            "Sigh.  This shit is just not doing itable.  Too many of our friends are saying the \"Draft this oy yopou is my husband\" txt, friends that\n",
            "@yerqcentaurissan nice of you to post it here instead of me.\n",
            "im uploading here at the recommendation of my wife. we will in no time, we are discussing how to scale this thing\n",
            "your webmail contains a few joke sub-clubs which i will not satirize. please be aware of this if you are a serious person\n",
            "nice towel wearing guy who needs nice towels to towelfolks at the keg lol\n",
            "@jeganlyxual thbe joke sub-club is theirs to use at your own peril. dont forget to likes this damn thing\n",
            "im groning over at mcdonalds to make a mental note of this http://t.co/PrsFrono\n",
            "@mrsostrumers http://t.co/PrsFrono\n",
            "My Gang Stalks The Toilets, Trying To Catch Me Stalker As I'm Trying To Make Contact\n",
            "but when I take one of the rollerblades out and throw it my way a jeep coulde bus just came out of my ass, and hit me in the dick,\n",
            "hehe. thats a wrap\n",
            "wife should name every aspect of her family life after me. that's the one thing i truly respect. thank you\n",
            "i was actually pretty happy with my sons funeral. he was just assumed to be mutant. im glad hes learning about science and stuff\n",
            "@frozenblueber ive completed my teens and i expect girls to click on me instead of leaving a hussein around the campus for once\n",
            "#RuinA Lot Of Shits ,,,,,, but Im Still A B\n",
            "\n",
            "[810 | 4746.45] loss=0.29 avg=1.59\n",
            "[820 | 4803.91] loss=0.42 avg=1.57\n",
            "[830 | 4861.37] loss=0.23 avg=1.55\n",
            "[840 | 4918.80] loss=0.18 avg=1.53\n",
            "[850 | 4976.26] loss=0.14 avg=1.50\n",
            "[860 | 5033.74] loss=0.21 avg=1.48\n",
            "[870 | 5091.18] loss=0.19 avg=1.46\n",
            "[880 | 5148.63] loss=0.14 avg=1.43\n",
            "[890 | 5206.06] loss=0.16 avg=1.41\n",
            "[900 | 5263.46] loss=0.13 avg=1.39\n",
            "[910 | 5320.90] loss=0.15 avg=1.37\n",
            "[920 | 5378.35] loss=0.13 avg=1.35\n",
            "[930 | 5435.76] loss=0.20 avg=1.33\n",
            "[940 | 5493.22] loss=0.17 avg=1.31\n",
            "[950 | 5550.68] loss=0.12 avg=1.29\n",
            "[960 | 5608.06] loss=0.11 avg=1.27\n",
            "[970 | 5665.47] loss=0.21 avg=1.26\n",
            "[980 | 5722.90] loss=0.14 avg=1.24\n",
            "[990 | 5780.33] loss=0.14 avg=1.22\n",
            "[1000 | 5837.83] loss=0.17 avg=1.20\n",
            "Saving checkpoint/run1/model-1000\n",
            "WARNING:tensorflow:From /usr/local/lib/python3.6/dist-packages/tensorflow_core/python/training/saver.py:963: remove_checkpoint (from tensorflow.python.training.checkpoint_management) is deprecated and will be removed in a future version.\n",
            "Instructions for updating:\n",
            "Use standard file APIs to delete files with this prefix.\n"
          ]
        }
      ],
      "source": [
        "gpt2.download_gpt2(model_name=\"124M\")\n",
        "\n",
        "sess = gpt2.start_tf_sess()\n",
        "gpt2.finetune(sess,\n",
        "              dataset=file_name,\n",
        "              model_name='124M',\n",
        "              steps=1000,\n",
        "              restore_from='fresh',\n",
        "              run_name='run1',\n",
        "              print_every=10,\n",
        "              sample_every=200,\n",
        "              save_every=500\n",
        "              )"
      ]
    },
    {
      "cell_type": "markdown",
      "metadata": {
        "colab_type": "text",
        "id": "rW-dqnWPBhCK"
      },
      "source": [
        "Connect to google drive"
      ]
    },
    {
      "cell_type": "code",
      "execution_count": 10,
      "metadata": {
        "colab": {
          "base_uri": "https://localhost:8080/",
          "height": 122
        },
        "colab_type": "code",
        "id": "puq4iC6vUAHc",
        "outputId": "fe2b638a-9fec-4d66-c54c-1ea6581d183f"
      },
      "outputs": [
        {
          "name": "stdout",
          "output_type": "stream",
          "text": [
            "Go to this URL in a browser: https://accounts.google.com/o/oauth2/auth?client_id=947318989803-6bn6qk8qdgf4n4g3pfee6491hc0brc4i.apps.googleusercontent.com&redirect_uri=urn%3aietf%3awg%3aoauth%3a2.0%3aoob&response_type=code&scope=email%20https%3a%2f%2fwww.googleapis.com%2fauth%2fdocs.test%20https%3a%2f%2fwww.googleapis.com%2fauth%2fdrive%20https%3a%2f%2fwww.googleapis.com%2fauth%2fdrive.photos.readonly%20https%3a%2f%2fwww.googleapis.com%2fauth%2fpeopleapi.readonly\n",
            "\n",
            "Enter your authorization code:\n",
            "··········\n",
            "Mounted at /content/drive\n"
          ]
        }
      ],
      "source": [
        "from google.colab import files\n",
        "\n",
        "gpt2.mount_gdrive()"
      ]
    },
    {
      "cell_type": "markdown",
      "metadata": {
        "colab_type": "text",
        "id": "C__tf8yf_y63"
      },
      "source": [
        "Zip up the tuned model. Then manually move that zip file to your google drive so you can download it to run locally\n"
      ]
    },
    {
      "cell_type": "code",
      "execution_count": 0,
      "metadata": {
        "colab": {},
        "colab_type": "code",
        "id": "EF47iEe0_03g"
      },
      "outputs": [],
      "source": [
        "from zipfile import ZipFile\n",
        "\n",
        "\n",
        "with ZipFile(\"checkpoint.zip\", 'w') as myzip:\n",
        "  for root, dirs, files in os.walk('checkpoint'):\n",
        "    for f in files:\n",
        "      myzip.write(os.path.join(root, f))\n",
        "\n"
      ]
    }
  ]
}